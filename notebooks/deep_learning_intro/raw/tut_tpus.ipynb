{
 "cells": [
  {
   "cell_type": "markdown",
   "metadata": {
    "papermill": {
     "duration": 0.014434,
     "end_time": "2020-09-10T21:12:09.281352",
     "exception": false,
     "start_time": "2020-09-10T21:12:09.266918",
     "status": "completed"
    },
    "tags": []
   },
   "source": [
    "# Introduction\n",
    "\n",
    "Large deep learning models can take a long time to train.  To accelerate training, you can use \"hardware accelerators\" like GPUs (Graphics Processing Units) and [TPUs](https://www.kaggle.com/docs/tpu) (Tensor Processing Units). \n",
    "\n",
    "<center>\n",
    "<img src=\"https://i.imgur.com/ZLJBzWp.png\" width=30%><br/>\n",
    "</center>\n",
    "\n",
    "On Kaggle, you can train deep learning models with GPUs and TPUs for free!\n",
    "- You can use 30 hours per week (sometimes more) of GPUs and up to 9 hours at a time in a single session.\n",
    "- You can use 30 hours per week of TPUs and up to 3 hours at a time in a single session.\n",
    "\n",
    "In this tutorial, you'll use a TPU to train a deep learning model and submit the results to the [Petals to the Metal](https://www.kaggle.com/c/tpu-getting-started) competition.  \n",
    "\n",
    "We won't dive into the details, and you should not understand all of the code that you see here.  At the end of this tutorial, we recommend additional resources that you can use to learn more.\n",
    "\n",
    "\n",
    "# Step 1: Connect to the TPU\n",
    "\n",
    "We begin by importing several Python packages and connecting to the TPU."
   ]
  },
  {
   "cell_type": "code",
   "execution_count": null,
   "metadata": {
    "execution": {
     "iopub.execute_input": "2020-09-10T21:12:09.331573Z",
     "iopub.status.busy": "2020-09-10T21:12:09.330762Z",
     "iopub.status.idle": "2020-09-10T21:12:20.266954Z",
     "shell.execute_reply": "2020-09-10T21:12:20.266156Z"
    },
    "papermill": {
     "duration": 10.966688,
     "end_time": "2020-09-10T21:12:20.267087",
     "exception": false,
     "start_time": "2020-09-10T21:12:09.300399",
     "status": "completed"
    },
    "tags": []
   },
   "outputs": [],
   "source": [
    "import math, re, os\n",
    "import tensorflow as tf\n",
    "import numpy as np\n",
    "from matplotlib import pyplot as plt\n",
    "from kaggle_datasets import KaggleDatasets\n",
    "from sklearn.metrics import f1_score, precision_score, recall_score, confusion_matrix\n",
    "print(\"Tensorflow version \" + tf.__version__)\n",
    "AUTO = tf.data.experimental.AUTOTUNE\n",
    "\n",
    "# Detect TPU, return appropriate distribution strategy\n",
    "try:\n",
    "    tpu = tf.distribute.cluster_resolver.TPUClusterResolver() \n",
    "    print('Running on TPU ', tpu.master())\n",
    "except ValueError:\n",
    "    tpu = None\n",
    "\n",
    "if tpu:\n",
    "    tf.config.experimental_connect_to_cluster(tpu)\n",
    "    tf.tpu.experimental.initialize_tpu_system(tpu)\n",
    "    strategy = tf.distribute.experimental.TPUStrategy(tpu)\n",
    "else:\n",
    "    strategy = tf.distribute.get_strategy() \n",
    "\n",
    "print(\"REPLICAS: \", strategy.num_replicas_in_sync)"
   ]
  },
  {
   "cell_type": "markdown",
   "metadata": {
    "papermill": {
     "duration": 0.01365,
     "end_time": "2020-09-10T21:12:20.295034",
     "exception": false,
     "start_time": "2020-09-10T21:12:20.281384",
     "status": "completed"
    },
    "tags": []
   },
   "source": [
    "If you see `Running on TPU` in the output above, that means that your Kaggle notebook has successfully connected to the TPU.\n",
    "\n",
    "# Step 2: Access and configure the data\n",
    "\n",
    "The next code cell will let the TPU access the competition data.  (Before running this cell, you have to attach the [competition dataset](https://www.kaggle.com/c/tpu-getting-started) to the notebook, and we have already done this for you.)\n",
    "\n",
    "It also defines several settings that we'll need to use when working with the data (like the image size and filenames)."
   ]
  },
  {
   "cell_type": "code",
   "execution_count": null,
   "metadata": {
    "execution": {
     "iopub.execute_input": "2020-09-10T21:12:20.356235Z",
     "iopub.status.busy": "2020-09-10T21:12:20.343429Z",
     "iopub.status.idle": "2020-09-10T21:12:20.952395Z",
     "shell.execute_reply": "2020-09-10T21:12:20.951810Z"
    },
    "papermill": {
     "duration": 0.643619,
     "end_time": "2020-09-10T21:12:20.952530",
     "exception": false,
     "start_time": "2020-09-10T21:12:20.308911",
     "status": "completed"
    },
    "tags": []
   },
   "outputs": [],
   "source": [
    "IMAGE_SIZE = [512, 512]                   \n",
    "EPOCHS = 12\n",
    "BATCH_SIZE = 16 * strategy.num_replicas_in_sync\n",
    "\n",
    "GCS_DS_PATH = KaggleDatasets().get_gcs_path()\n",
    "GCS_PATH = GCS_DS_PATH + '/tfrecords-jpeg-512x512'\n",
    "\n",
    "TRAINING_FILENAMES = tf.io.gfile.glob(GCS_PATH + '/train/*.tfrec')\n",
    "VALIDATION_FILENAMES = tf.io.gfile.glob(GCS_PATH + '/val/*.tfrec')\n",
    "TEST_FILENAMES = tf.io.gfile.glob(GCS_PATH + '/test/*.tfrec') \n",
    "\n",
    "CLASSES = ['pink primrose',    'hard-leaved pocket orchid', 'canterbury bells', 'sweet pea',     'wild geranium',     'tiger lily',           'moon orchid',              'bird of paradise', 'monkshood',        'globe thistle',         # 00 - 09\n",
    "           'snapdragon',       \"colt's foot\",               'king protea',      'spear thistle', 'yellow iris',       'globe-flower',         'purple coneflower',        'peruvian lily',    'balloon flower',   'giant white arum lily', # 10 - 19\n",
    "           'fire lily',        'pincushion flower',         'fritillary',       'red ginger',    'grape hyacinth',    'corn poppy',           'prince of wales feathers', 'stemless gentian', 'artichoke',        'sweet william',         # 20 - 29\n",
    "           'carnation',        'garden phlox',              'love in the mist', 'cosmos',        'alpine sea holly',  'ruby-lipped cattleya', 'cape flower',              'great masterwort', 'siam tulip',       'lenten rose',           # 30 - 39\n",
    "           'barberton daisy',  'daffodil',                  'sword lily',       'poinsettia',    'bolero deep blue',  'wallflower',           'marigold',                 'buttercup',        'daisy',            'common dandelion',      # 40 - 49\n",
    "           'petunia',          'wild pansy',                'primula',          'sunflower',     'lilac hibiscus',    'bishop of llandaff',   'gaura',                    'geranium',         'orange dahlia',    'pink-yellow dahlia',    # 50 - 59\n",
    "           'cautleya spicata', 'japanese anemone',          'black-eyed susan', 'silverbush',    'californian poppy', 'osteospermum',         'spring crocus',            'iris',             'windflower',       'tree poppy',            # 60 - 69\n",
    "           'gazania',          'azalea',                    'water lily',       'rose',          'thorn apple',       'morning glory',        'passion flower',           'lotus',            'toad lily',        'anthurium',             # 70 - 79\n",
    "           'frangipani',       'clematis',                  'hibiscus',         'columbine',     'desert-rose',       'tree mallow',          'magnolia',                 'cyclamen ',        'watercress',       'canna lily',            # 80 - 89\n",
    "           'hippeastrum ',     'bee balm',                  'pink quill',       'foxglove',      'bougainvillea',     'camellia',             'mallow',                   'mexican petunia',  'bromelia',         'blanket flower',        # 90 - 99\n",
    "           'trumpet creeper',  'blackberry lily',           'common tulip',     'wild rose']                                                                                                                                               # 100 - 102\n",
    "\n",
    "def count_data_items(filenames):\n",
    "    # the number of data items is written in the name of the .tfrec files, i.e. flowers00-230.tfrec = 230 data items\n",
    "    n = [int(re.compile(r\"-([0-9]*)\\.\").search(filename).group(1)) for filename in filenames]\n",
    "    return np.sum(n)\n",
    "\n",
    "NUM_TRAINING_IMAGES = count_data_items(TRAINING_FILENAMES)\n",
    "NUM_VALIDATION_IMAGES = count_data_items(VALIDATION_FILENAMES)\n",
    "NUM_TEST_IMAGES = count_data_items(TEST_FILENAMES)\n",
    "print('{} training images, {} validation images, {} unlabeled test images'.format(NUM_TRAINING_IMAGES, NUM_VALIDATION_IMAGES, NUM_TEST_IMAGES))"
   ]
  },
  {
   "cell_type": "markdown",
   "metadata": {
    "papermill": {
     "duration": 0.014113,
     "end_time": "2020-09-10T21:12:20.981087",
     "exception": false,
     "start_time": "2020-09-10T21:12:20.966974",
     "status": "completed"
    },
    "tags": []
   },
   "source": [
    "# Step 3: Define a model\n",
    "\n",
    "We define a model architecture."
   ]
  },
  {
   "cell_type": "code",
   "execution_count": null,
   "metadata": {
    "execution": {
     "iopub.execute_input": "2020-09-10T21:12:21.019858Z",
     "iopub.status.busy": "2020-09-10T21:12:21.019049Z",
     "iopub.status.idle": "2020-09-10T21:12:24.314949Z",
     "shell.execute_reply": "2020-09-10T21:12:24.315699Z"
    },
    "papermill": {
     "duration": 3.320477,
     "end_time": "2020-09-10T21:12:24.315910",
     "exception": false,
     "start_time": "2020-09-10T21:12:20.995433",
     "status": "completed"
    },
    "tags": []
   },
   "outputs": [],
   "source": [
    "with strategy.scope():\n",
    "    pretrained_model = tf.keras.applications.VGG16(weights='imagenet', include_top=False ,input_shape=[*IMAGE_SIZE, 3])\n",
    "    pretrained_model.trainable = False # False = transfer learning, True = fine-tuning\n",
    "    \n",
    "    model = tf.keras.Sequential([\n",
    "        pretrained_model,\n",
    "        tf.keras.layers.GlobalAveragePooling2D(),\n",
    "        tf.keras.layers.Dense(len(CLASSES), activation='softmax')\n",
    "    ])\n",
    "        \n",
    "model.compile(\n",
    "    optimizer='adam',\n",
    "    loss = 'sparse_categorical_crossentropy',\n",
    "    metrics=['sparse_categorical_accuracy']\n",
    ")\n",
    "\n",
    "model.summary()"
   ]
  },
  {
   "cell_type": "markdown",
   "metadata": {
    "papermill": {
     "duration": 0.01878,
     "end_time": "2020-09-10T21:12:24.355136",
     "exception": false,
     "start_time": "2020-09-10T21:12:24.336356",
     "status": "completed"
    },
    "tags": []
   },
   "source": [
    "# Step 4: Train the model\n",
    "\n",
    "There are several helper functions that we'll need to use to train a model.  These are defined in the hidden code cell below."
   ]
  },
  {
   "cell_type": "code",
   "execution_count": null,
   "metadata": {
    "_kg_hide-input": true,
    "execution": {
     "iopub.execute_input": "2020-09-10T21:12:24.419288Z",
     "iopub.status.busy": "2020-09-10T21:12:24.414058Z",
     "iopub.status.idle": "2020-09-10T21:12:24.426129Z",
     "shell.execute_reply": "2020-09-10T21:12:24.425336Z"
    },
    "papermill": {
     "duration": 0.050957,
     "end_time": "2020-09-10T21:12:24.426255",
     "exception": false,
     "start_time": "2020-09-10T21:12:24.375298",
     "status": "completed"
    },
    "tags": []
   },
   "outputs": [],
   "source": [
    "def decode_image(image_data):\n",
    "    image = tf.image.decode_jpeg(image_data, channels=3)\n",
    "    image = tf.cast(image, tf.float32) / 255.0  # convert image to floats in [0, 1] range\n",
    "    image = tf.reshape(image, [*IMAGE_SIZE, 3]) # explicit size needed for TPU\n",
    "    return image\n",
    "\n",
    "def read_labeled_tfrecord(example):\n",
    "    LABELED_TFREC_FORMAT = {\n",
    "        \"image\": tf.io.FixedLenFeature([], tf.string), # tf.string means bytestring\n",
    "        \"class\": tf.io.FixedLenFeature([], tf.int64),  # shape [] means single element\n",
    "    }\n",
    "    example = tf.io.parse_single_example(example, LABELED_TFREC_FORMAT)\n",
    "    image = decode_image(example['image'])\n",
    "    label = tf.cast(example['class'], tf.int32)\n",
    "    return image, label # returns a dataset of (image, label) pairs\n",
    "\n",
    "def read_unlabeled_tfrecord(example):\n",
    "    UNLABELED_TFREC_FORMAT = {\n",
    "        \"image\": tf.io.FixedLenFeature([], tf.string), # tf.string means bytestring\n",
    "        \"id\": tf.io.FixedLenFeature([], tf.string),  # shape [] means single element\n",
    "        # class is missing, this competitions's challenge is to predict flower classes for the test dataset\n",
    "    }\n",
    "    example = tf.io.parse_single_example(example, UNLABELED_TFREC_FORMAT)\n",
    "    image = decode_image(example['image'])\n",
    "    idnum = example['id']\n",
    "    return image, idnum # returns a dataset of image(s)\n",
    "\n",
    "def load_dataset(filenames, labeled=True, ordered=False):\n",
    "    # Read from TFRecords. For optimal performance, reading from multiple files at once and\n",
    "    # disregarding data order. Order does not matter since we will be shuffling the data anyway.\n",
    "\n",
    "    ignore_order = tf.data.Options()\n",
    "    if not ordered:\n",
    "        ignore_order.experimental_deterministic = False # disable order, increase speed\n",
    "\n",
    "    dataset = tf.data.TFRecordDataset(filenames, num_parallel_reads=AUTO) # automatically interleaves reads from multiple files\n",
    "    dataset = dataset.with_options(ignore_order) # uses data as soon as it streams in, rather than in its original order\n",
    "    dataset = dataset.map(read_labeled_tfrecord if labeled else read_unlabeled_tfrecord, num_parallel_calls=AUTO)\n",
    "    # returns a dataset of (image, label) pairs if labeled=True or (image, id) pairs if labeled=False\n",
    "    return dataset\n",
    "\n",
    "def data_augment(image, label):\n",
    "    # data augmentation. Thanks to the dataset.prefetch(AUTO) statement in the next function (below),\n",
    "    # this happens essentially for free on TPU. Data pipeline code is executed on the \"CPU\" part\n",
    "    # of the TPU while the TPU itself is computing gradients.\n",
    "    image = tf.image.random_flip_left_right(image)\n",
    "    #image = tf.image.random_saturation(image, 0, 2)\n",
    "    return image, label   \n",
    "\n",
    "def get_training_dataset():\n",
    "    dataset = load_dataset(TRAINING_FILENAMES, labeled=True)\n",
    "    dataset = dataset.map(data_augment, num_parallel_calls=AUTO)\n",
    "    dataset = dataset.repeat() # the training dataset must repeat for several epochs\n",
    "    dataset = dataset.shuffle(2048)\n",
    "    dataset = dataset.batch(BATCH_SIZE)\n",
    "    dataset = dataset.prefetch(AUTO) # prefetch next batch while training (autotune prefetch buffer size)\n",
    "    return dataset\n",
    "\n",
    "def get_validation_dataset(ordered=False):\n",
    "    dataset = load_dataset(VALIDATION_FILENAMES, labeled=True, ordered=ordered)\n",
    "    dataset = dataset.batch(BATCH_SIZE)\n",
    "    dataset = dataset.cache()\n",
    "    dataset = dataset.prefetch(AUTO) # prefetch next batch while training (autotune prefetch buffer size)\n",
    "    return dataset\n",
    "\n",
    "def get_test_dataset(ordered=False):\n",
    "    dataset = load_dataset(TEST_FILENAMES, labeled=False, ordered=ordered)\n",
    "    dataset = dataset.batch(BATCH_SIZE)\n",
    "    dataset = dataset.prefetch(AUTO) # prefetch next batch while training (autotune prefetch buffer size)\n",
    "    return dataset"
   ]
  },
  {
   "cell_type": "markdown",
   "metadata": {
    "papermill": {
     "duration": 0.018429,
     "end_time": "2020-09-10T21:12:24.463547",
     "exception": false,
     "start_time": "2020-09-10T21:12:24.445118",
     "status": "completed"
    },
    "tags": []
   },
   "source": [
    "The next code cell trains the model."
   ]
  },
  {
   "cell_type": "code",
   "execution_count": null,
   "metadata": {
    "execution": {
     "iopub.execute_input": "2020-09-10T21:12:24.509563Z",
     "iopub.status.busy": "2020-09-10T21:12:24.508754Z",
     "iopub.status.idle": "2020-09-10T21:16:09.355764Z",
     "shell.execute_reply": "2020-09-10T21:16:09.356454Z"
    },
    "papermill": {
     "duration": 224.874389,
     "end_time": "2020-09-10T21:16:09.356669",
     "exception": false,
     "start_time": "2020-09-10T21:12:24.482280",
     "status": "completed"
    },
    "tags": []
   },
   "outputs": [],
   "source": [
    "STEPS_PER_EPOCH = NUM_TRAINING_IMAGES // BATCH_SIZE\n",
    "history = model.fit(get_training_dataset(), steps_per_epoch=STEPS_PER_EPOCH, epochs=EPOCHS, validation_data=get_validation_dataset())"
   ]
  },
  {
   "cell_type": "markdown",
   "metadata": {
    "papermill": {
     "duration": 0.512308,
     "end_time": "2020-09-10T21:16:10.380320",
     "exception": false,
     "start_time": "2020-09-10T21:16:09.868012",
     "status": "completed"
    },
    "tags": []
   },
   "source": [
    "We can see that accuracy (`sparse_categorical_accuracy`) increases with training epoch, while the loss decreases over time: which is what we want!\n",
    "\n",
    "# Step 5: Visualization\n",
    "\n",
    "Next, we'll visualize how the model performs with some images from the validation set.\n",
    "\n",
    "We begin by defining a (hidden) code cell with some helper functions."
   ]
  },
  {
   "cell_type": "code",
   "execution_count": null,
   "metadata": {
    "_kg_hide-input": true,
    "execution": {
     "iopub.execute_input": "2020-09-10T21:16:11.488286Z",
     "iopub.status.busy": "2020-09-10T21:16:11.472817Z",
     "iopub.status.idle": "2020-09-10T21:16:11.491968Z",
     "shell.execute_reply": "2020-09-10T21:16:11.491299Z"
    },
    "papermill": {
     "duration": 0.565353,
     "end_time": "2020-09-10T21:16:11.492137",
     "exception": false,
     "start_time": "2020-09-10T21:16:10.926784",
     "status": "completed"
    },
    "tags": []
   },
   "outputs": [],
   "source": [
    "def batch_to_numpy_images_and_labels(data):\n",
    "    images, labels = data\n",
    "    numpy_images = images.numpy()\n",
    "    numpy_labels = labels.numpy()\n",
    "    if numpy_labels.dtype == object: # binary string in this case, these are image ID strings\n",
    "        numpy_labels = [None for _ in enumerate(numpy_images)]\n",
    "    # If no labels, only image IDs, return None for labels (this is the case for test data)\n",
    "    return numpy_images, numpy_labels\n",
    "\n",
    "def title_from_label_and_target(label, correct_label):\n",
    "    if correct_label is None:\n",
    "        return CLASSES[label], True\n",
    "    correct = (label == correct_label)\n",
    "    return \"{} [{}{}{}]\".format(CLASSES[label], 'OK' if correct else 'NO', u\"\\u2192\" if not correct else '',\n",
    "                                CLASSES[correct_label] if not correct else ''), correct\n",
    "\n",
    "def display_one_flower(image, title, subplot, red=False, titlesize=16):\n",
    "    plt.subplot(*subplot)\n",
    "    plt.axis('off')\n",
    "    plt.imshow(image)\n",
    "    if len(title) > 0:\n",
    "        plt.title(title, fontsize=int(titlesize) if not red else int(titlesize/1.2), color='red' if red else 'black', fontdict={'verticalalignment':'center'}, pad=int(titlesize/1.5))\n",
    "    return (subplot[0], subplot[1], subplot[2]+1)\n",
    "\n",
    "def display_batch_of_images(databatch, predictions=None):\n",
    "    \"\"\"This will work with:\n",
    "    display_batch_of_images(images)\n",
    "    display_batch_of_images(images, predictions)\n",
    "    display_batch_of_images((images, labels))\n",
    "    display_batch_of_images((images, labels), predictions)\n",
    "    \"\"\"\n",
    "    # data\n",
    "    images, labels = batch_to_numpy_images_and_labels(databatch)\n",
    "    if labels is None:\n",
    "        labels = [None for _ in enumerate(images)]\n",
    "        \n",
    "    # auto-squaring: this will drop data that does not fit into square or square-ish rectangle\n",
    "    rows = int(math.sqrt(len(images)))\n",
    "    cols = len(images)//rows\n",
    "        \n",
    "    # size and spacing\n",
    "    FIGSIZE = 13.0\n",
    "    SPACING = 0.1\n",
    "    subplot=(rows,cols,1)\n",
    "    if rows < cols:\n",
    "        plt.figure(figsize=(FIGSIZE,FIGSIZE/cols*rows))\n",
    "    else:\n",
    "        plt.figure(figsize=(FIGSIZE/rows*cols,FIGSIZE))\n",
    "    \n",
    "    # display\n",
    "    for i, (image, label) in enumerate(zip(images[:rows*cols], labels[:rows*cols])):\n",
    "        title = '' if label is None else CLASSES[label]\n",
    "        correct = True\n",
    "        if predictions is not None:\n",
    "            title, correct = title_from_label_and_target(predictions[i], label)\n",
    "        dynamic_titlesize = FIGSIZE*SPACING/max(rows,cols)*40+3 # magic formula tested to work from 1x1 to 10x10 images\n",
    "        subplot = display_one_flower(image, title, subplot, not correct, titlesize=dynamic_titlesize)\n",
    "    \n",
    "    #layout\n",
    "    plt.tight_layout()\n",
    "    if label is None and predictions is None:\n",
    "        plt.subplots_adjust(wspace=0, hspace=0)\n",
    "    else:\n",
    "        plt.subplots_adjust(wspace=SPACING, hspace=SPACING)\n",
    "    plt.show()"
   ]
  },
  {
   "cell_type": "markdown",
   "metadata": {
    "papermill": {
     "duration": 0.503123,
     "end_time": "2020-09-10T21:16:12.511521",
     "exception": false,
     "start_time": "2020-09-10T21:16:12.008398",
     "status": "completed"
    },
    "tags": []
   },
   "source": [
    "Pictures with red titles show examples where the model made a mistake.  Titles in black show correct classifications."
   ]
  },
  {
   "cell_type": "code",
   "execution_count": null,
   "metadata": {
    "execution": {
     "iopub.execute_input": "2020-09-10T21:16:13.616776Z",
     "iopub.status.busy": "2020-09-10T21:16:13.615574Z",
     "iopub.status.idle": "2020-09-10T21:16:31.957211Z",
     "shell.execute_reply": "2020-09-10T21:16:31.957834Z"
    },
    "papermill": {
     "duration": 18.902845,
     "end_time": "2020-09-10T21:16:31.958003",
     "exception": false,
     "start_time": "2020-09-10T21:16:13.055158",
     "status": "completed"
    },
    "tags": []
   },
   "outputs": [],
   "source": [
    "dataset = get_validation_dataset()\n",
    "dataset = dataset.unbatch().batch(20)\n",
    "batch = iter(dataset)\n",
    "\n",
    "images, labels = next(batch)\n",
    "probabilities = model.predict(images)\n",
    "predictions = np.argmax(probabilities, axis=-1)\n",
    "display_batch_of_images((images, labels), predictions)"
   ]
  },
  {
   "cell_type": "markdown",
   "metadata": {
    "papermill": {
     "duration": 0.531578,
     "end_time": "2020-09-10T21:16:33.023286",
     "exception": false,
     "start_time": "2020-09-10T21:16:32.491708",
     "status": "completed"
    },
    "tags": []
   },
   "source": [
    "# Step 6: Make a submission\n",
    "\n",
    "If you have not yet already, begin by clicking on the **[Copy and Edit]** button in the top right corner of this notebook.  Then, submit to the competition by following these steps:\n",
    "#$SUBMIT_TO_COMP$"
   ]
  },
  {
   "cell_type": "code",
   "execution_count": null,
   "metadata": {
    "execution": {
     "iopub.execute_input": "2020-09-10T21:16:34.111788Z",
     "iopub.status.busy": "2020-09-10T21:16:34.110677Z",
     "iopub.status.idle": "2020-09-10T21:17:01.702593Z",
     "shell.execute_reply": "2020-09-10T21:17:01.701781Z"
    },
    "papermill": {
     "duration": 28.146178,
     "end_time": "2020-09-10T21:17:01.702744",
     "exception": false,
     "start_time": "2020-09-10T21:16:33.556566",
     "status": "completed"
    },
    "tags": []
   },
   "outputs": [],
   "source": [
    "test_ds = get_test_dataset(ordered=True) # since we are splitting the dataset and iterating separately on images and ids, order matters.\n",
    "\n",
    "print('Computing predictions...')\n",
    "test_images_ds = test_ds.map(lambda image, idnum: image)\n",
    "probabilities = model.predict(test_images_ds)\n",
    "predictions = np.argmax(probabilities, axis=-1)\n",
    "print(predictions)\n",
    "\n",
    "print('Generating submission.csv file...')\n",
    "test_ids_ds = test_ds.map(lambda image, idnum: idnum).unbatch()\n",
    "test_ids = next(iter(test_ids_ds.batch(NUM_TEST_IMAGES))).numpy().astype('U') # all in one batch\n",
    "np.savetxt('submission.csv', np.rec.fromarrays([test_ids, predictions]), fmt=['%s', '%d'], delimiter=',', header='id,label', comments='')\n",
    "!head submission.csv"
   ]
  },
  {
   "cell_type": "markdown",
   "metadata": {
    "papermill": {
     "duration": 0.530961,
     "end_time": "2020-09-10T21:17:02.761421",
     "exception": false,
     "start_time": "2020-09-10T21:17:02.230460",
     "status": "completed"
    },
    "tags": []
   },
   "source": [
    "# Learn more\n",
    "\n",
    "In this tutorial, you saw how to leverage TPUs to quickly make a submission to a Kaggle competition.  \n",
    "\n",
    "If you took Kaggle Learn's [**Deep Learning course**](https://www.kaggle.com/learn/deep-learning), then some of the code should look familiar; for instance, you define a neural network architecture with `tf.keras.Sequential()`, before compiling and training the model with `model.compile()` and `model.fit()`.\n",
    "\n",
    "If you're interested in learning about the details of the code presented here, we'll soon release a new **Computer Vision course** that will help you understand the code in **Step 3** of this notebook, by teaching you about topics like convolutional neural networks and transfer learning.  Until then, you're encouraged to check out the [Petals to the Metal discussion forums](https://www.kaggle.com/c/tpu-getting-started/discussion) to continue your leanring!"
   ]
  }
 ],
 "metadata": {
  "jupytext": {
   "formats": "ipynb"
  },
  "kernelspec": {
   "display_name": "Python 3",
   "language": "python",
   "name": "python3"
  },
  "language_info": {
   "codemirror_mode": {
    "name": "ipython",
    "version": 3
   },
   "file_extension": ".py",
   "mimetype": "text/x-python",
   "name": "python",
   "nbconvert_exporter": "python",
   "pygments_lexer": "ipython3",
   "version": "3.6.5"
  },
  "papermill": {
   "duration": 299.601409,
   "end_time": "2020-09-10T21:17:03.451717",
   "environment_variables": {},
   "exception": null,
   "input_path": "__notebook__.ipynb",
   "output_path": "__notebook__.ipynb",
   "parameters": {},
   "start_time": "2020-09-10T21:12:03.850308",
   "version": "2.1.0"
  }
 },
 "nbformat": 4,
 "nbformat_minor": 4
}
